{
  "metadata": {
    "hide_input": false,
    "kernelspec": {
      "name": "python",
      "display_name": "Python (Pyodide)",
      "language": "python"
    },
    "language_info": {
      "codemirror_mode": {
        "name": "python",
        "version": 3
      },
      "file_extension": ".py",
      "mimetype": "text/x-python",
      "name": "python",
      "nbconvert_exporter": "python",
      "pygments_lexer": "ipython3",
      "version": "3.8"
    }
  },
  "nbformat_minor": 4,
  "nbformat": 4,
  "cells": [
    {
      "cell_type": "code",
      "source": "%pip install ipywidgets",
      "metadata": {
        "tags": [],
        "jupyter": {
          "source_hidden": true
        },
        "trusted": true
      },
      "execution_count": 1,
      "outputs": []
    },
    {
      "cell_type": "markdown",
      "source": "# Particle stability in yield stress fluids \n\nMeasurement- Yield stress can be used to determine if a particle of a given size and density will be trapped by the structurant or not. The criterion for particle suspension in yield stress fluid from <a name=\"ref-1\"/>[(Beris, Tsamopoulos, Armstrong and Brown, 1985)](#cite-beris1985creeping) is:\n\n\n$$ \\sigma_{y-min}=\\frac{F}{14 \\pi r^2}$$\n\nwhere $F$ is the force applied by a single particle on the structure:\n\n$$F= \\frac{4}{3} \\pi r^3 g (\\rho_l-\\rho_P)$$\n\nThe minimum yield stress required to trap a particle with a given radius and density mismatch:\n\n$$ \\sigma_{y-min}=\\frac{2 r g (\\rho_l-\\rho_p)}{21}$$\n\nOr the maximum trapped particle radius for a given yields stress and density mismatch:\n\n$$r_{max}=\\frac{21 \\sigma_y}{2 g ( \\rho_l-\\rho_p)}$$",
      "metadata": {
        "tags": []
      }
    },
    {
      "cell_type": "code",
      "source": "# Calculation of the minimum yield stress required to suspend a particle in a structured fluid\nfrom scipy import constants\n\ndef min_yield_stress(force,radius):\n    '''\n    input:\n    force N\n    radius m\n    '''\n    \n    return force / (14 * constants.pi * radius**2)\n\ndef force(radius=10E-6,drho=1000):\n    '''\n    input:\n    radius in m\n    drho in kg/m3\n    '''\n    return drho * constants.g * 4/3 * constants.pi * radius**3\n\ndef max_radius(ystress=(0.01,0.1,0.01),drho=1000):  \n    '''\n    input:\n    ystress in Pa\n    drho in kg/m3\n    '''\n    return ystress *21 /( 2 * constants.g * drho)\n\ndef vel_term(radius,drho=1000,visc=0.1):\n    return (2/9)*drho/visc*constants.g*radius**2\n",
      "metadata": {
        "tags": [],
        "jupyter": {
          "source_hidden": true
        },
        "trusted": true
      },
      "execution_count": 2,
      "outputs": []
    },
    {
      "cell_type": "markdown",
      "source": "## Simple calculation\n\nMinimum ystress required to suspend particle",
      "metadata": {
        "tags": []
      }
    },
    {
      "cell_type": "code",
      "source": "import ipywidgets\nfrom IPython.display import clear_output\nstyle = {'description_width': 'initial'}\n\nRadius_widget_simple=ipywidgets.Text(value='50E-6',description='Partilcle radius[m]',style=style)\ndrho_widget_simple=ipywidgets.Text(value='1000',description='drho [Kg/m^3]',style=style)\ndisplay(Radius_widget_simple)\ndisplay(drho_widget_simple)",
      "metadata": {
        "tags": [],
        "jupyter": {
          "source_hidden": true
        },
        "trusted": true
      },
      "execution_count": 3,
      "outputs": [
        {
          "output_type": "display_data",
          "data": {
            "text/plain": "Text(value='50E-6', description='Partilcle radius[m]', style=TextStyle(description_width='initial'))",
            "application/vnd.jupyter.widget-view+json": {
              "version_major": 2,
              "version_minor": 0,
              "model_id": "6619eb81832a48b39acca4b83201a8e4"
            }
          },
          "metadata": {}
        },
        {
          "output_type": "display_data",
          "data": {
            "text/plain": "Text(value='1000', description='drho [Kg/m^3]', style=TextStyle(description_width='initial'))",
            "application/vnd.jupyter.widget-view+json": {
              "version_major": 2,
              "version_minor": 0,
              "model_id": "f5cb3a54a8b941b1824e7ff9bb4171bc"
            }
          },
          "metadata": {}
        }
      ]
    },
    {
      "cell_type": "code",
      "source": "def execute_simple_calculation(sender):\n    clear_output()\n    result_widget.value='Min Yield stress required:' + str(min_yield_stress(force(float(Radius_widget_simple.value),float(drho_widget_simple.value)), float(Radius_widget_simple.value)))[:7] + ' Pa'\n\nbutton_execute_simple=ipywidgets.Button(description='Execute calculation')\nbutton_execute_simple.on_click(execute_simple_calculation)\ndisplay(button_execute_simple)",
      "metadata": {
        "tags": [],
        "jupyter": {
          "source_hidden": true
        },
        "trusted": true
      },
      "execution_count": 4,
      "outputs": [
        {
          "output_type": "display_data",
          "data": {
            "text/plain": "Button(description='Execute calculation', style=ButtonStyle())",
            "application/vnd.jupyter.widget-view+json": {
              "version_major": 2,
              "version_minor": 0,
              "model_id": "2ca460a78b1b4fefbde9e111302ed792"
            }
          },
          "metadata": {}
        }
      ]
    },
    {
      "cell_type": "code",
      "source": "result_widget=ipywidgets.Textarea(description='result')\nresult_widget.width='50%'\nbutton_execute_simple='50%'\ndisplay(result_widget)",
      "metadata": {
        "jupyter": {
          "source_hidden": true
        },
        "tags": [],
        "trusted": true
      },
      "execution_count": 5,
      "outputs": [
        {
          "output_type": "display_data",
          "data": {
            "text/plain": "Textarea(value='', description='result')",
            "application/vnd.jupyter.widget-view+json": {
              "version_major": 2,
              "version_minor": 0,
              "model_id": "43bb8cc4f93f4a59bb730eb25e26ea8f"
            }
          },
          "metadata": {}
        }
      ]
    },
    {
      "cell_type": "markdown",
      "source": "# References\n\n<a name=\"cite-beris1985creeping\"/><sup>[^](#ref-1) </sup>Beris, AN and Tsamopoulos, JA and Armstrong, RC and Brown, RA. 1985. _Creeping motion of a sphere through a Bingham plastic_.\n\n",
      "metadata": {}
    }
  ]
}