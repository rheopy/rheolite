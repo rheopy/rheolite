{
 "cells": [
  {
   "cell_type": "code",
   "execution_count": 6,
   "metadata": {},
   "outputs": [],
   "source": [
    "import carreau_yasuda\n",
    "import pandas as pd\n",
    "import matplotlib.pyplot as plt\n",
    "\n",
    "%matplotlib inline"
   ]
  },
  {
   "cell_type": "code",
   "execution_count": 2,
   "metadata": {},
   "outputs": [
    {
     "data": {
      "text/html": [
       "<div>\n",
       "<style scoped>\n",
       "    .dataframe tbody tr th:only-of-type {\n",
       "        vertical-align: middle;\n",
       "    }\n",
       "\n",
       "    .dataframe tbody tr th {\n",
       "        vertical-align: top;\n",
       "    }\n",
       "\n",
       "    .dataframe thead th {\n",
       "        text-align: right;\n",
       "    }\n",
       "</style>\n",
       "<table border=\"1\" class=\"dataframe\">\n",
       "  <thead>\n",
       "    <tr style=\"text-align: right;\">\n",
       "      <th></th>\n",
       "      <th>w</th>\n",
       "      <th>G_p</th>\n",
       "      <th>G_pp</th>\n",
       "      <th>eta_star</th>\n",
       "    </tr>\n",
       "  </thead>\n",
       "  <tbody>\n",
       "    <tr>\n",
       "      <th>0</th>\n",
       "      <td>500.000</td>\n",
       "      <td>96294.0</td>\n",
       "      <td>57836.0</td>\n",
       "      <td>224.655624</td>\n",
       "    </tr>\n",
       "    <tr>\n",
       "      <th>1</th>\n",
       "      <td>312.370</td>\n",
       "      <td>80898.0</td>\n",
       "      <td>51523.0</td>\n",
       "      <td>307.046034</td>\n",
       "    </tr>\n",
       "    <tr>\n",
       "      <th>2</th>\n",
       "      <td>195.150</td>\n",
       "      <td>65985.0</td>\n",
       "      <td>46284.0</td>\n",
       "      <td>413.011461</td>\n",
       "    </tr>\n",
       "    <tr>\n",
       "      <th>3</th>\n",
       "      <td>121.920</td>\n",
       "      <td>52578.0</td>\n",
       "      <td>41041.0</td>\n",
       "      <td>547.075119</td>\n",
       "    </tr>\n",
       "    <tr>\n",
       "      <th>4</th>\n",
       "      <td>76.165</td>\n",
       "      <td>40924.0</td>\n",
       "      <td>35704.0</td>\n",
       "      <td>713.053950</td>\n",
       "    </tr>\n",
       "  </tbody>\n",
       "</table>\n",
       "</div>"
      ],
      "text/plain": [
       "         w      G_p     G_pp    eta_star\n",
       "0  500.000  96294.0  57836.0  224.655624\n",
       "1  312.370  80898.0  51523.0  307.046034\n",
       "2  195.150  65985.0  46284.0  413.011461\n",
       "3  121.920  52578.0  41041.0  547.075119\n",
       "4   76.165  40924.0  35704.0  713.053950"
      ]
     },
     "execution_count": 2,
     "metadata": {},
     "output_type": "execute_result"
    }
   ],
   "source": [
    "lve_data = pd.read_csv(\"PP_0515_190C.csv\") #Import viscoelastic moduli\n",
    "lve_data = carreau_yasuda.calc_eta_star(lve_data) #Calculate complex viscosity\n",
    "lve_data.head()"
   ]
  },
  {
   "cell_type": "code",
   "execution_count": 14,
   "metadata": {},
   "outputs": [],
   "source": [
    "eta_estimated, *estimates = carreau_yasuda.fit(lve_data, eta_0=5E3,\n",
    "                                              eta_inf=1E-4, lam=0.132,\n",
    "                                              a=0.5448, n=0.292)\n",
    "estimates = estimates[0]"
   ]
  },
  {
   "cell_type": "code",
   "execution_count": 16,
   "metadata": {},
   "outputs": [
    {
     "name": "stdout",
     "output_type": "stream",
     "text": [
      "Estimated Values:\n",
      "eta_0: 5000.00 Pa.s\n",
      "eta_inf: 0.00 Pa.s\n",
      "lam: 0.55 s\n",
      "a: 0.29\n",
      "n: 0.13\n",
      "\n"
     ]
    }
   ],
   "source": [
    "print(f\"Estimated Parameters:\\n\\\n",
    "eta_0: {estimates[0]:.2f} Pa.s\\n\\\n",
    "eta_inf: {estimates[1]:.2f} Pa.s\\n\\\n",
    "lam: {estimates[2]:.2f} s\\n\\\n",
    "a: {estimates[3]:.2f}\\n\\\n",
    "n: {estimates[4]:.2f}\\n\")"
   ]
  },
  {
   "cell_type": "code",
   "execution_count": 17,
   "metadata": {},
   "outputs": [
    {
     "data": {
      "text/plain": [
       "<matplotlib.legend.Legend at 0x7fdd223ed0d0>"
      ]
     },
     "execution_count": 17,
     "metadata": {},
     "output_type": "execute_result"
    },
    {
     "data": {
      "image/png": "[encoded data removed]",
      "text/plain": [
       "<Figure size 640x480 with 1 Axes>"
      ]
     },
     "metadata": {},
     "output_type": "display_data"
    }
   ],
   "source": [
    "fig, axs = plt.subplots(1)\n",
    "axs.loglog(lve_data['w'], lve_data['eta_star'], 's', label='data')\n",
    "axs.loglog(eta_estimated['w'], eta_estimated['eta_star'], '--',\n",
    "           label='Carreau Yasuda estimate')\n",
    "axs.legend()"
   ]
  },
  {
   "cell_type": "code",
   "execution_count": null,
   "metadata": {},
   "outputs": [],
   "source": []
  }
 ],
 "metadata": {
  "kernelspec": {
   "display_name": "rheopy",
   "language": "python",
   "name": "python3"
  },
  "language_info": {
   "codemirror_mode": {
    "name": "ipython",
    "version": 3
   },
   "file_extension": ".py",
   "mimetype": "text/x-python",
   "name": "python",
   "nbconvert_exporter": "python",
   "pygments_lexer": "ipython3",
   "version": "3.11.5"
  }
 },
 "nbformat": 4,
 "nbformat_minor": 2
}
