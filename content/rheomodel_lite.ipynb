{
  "metadata": {
    "language_info": {
      "codemirror_mode": {
        "name": "python",
        "version": 3
      },
      "file_extension": ".py",
      "mimetype": "text/x-python",
      "name": "python",
      "nbconvert_exporter": "python",
      "pygments_lexer": "ipython3",
      "version": "3.8"
    },
    "kernelspec": {
      "name": "python",
      "display_name": "Python (Pyodide)",
      "language": "python"
    }
  },
  "nbformat_minor": 4,
  "nbformat": 4,
  "cells": [
    {
      "cell_type": "code",
      "source": "%pip install bibtexparser --pre\n%pip install pandas\n%pip install lmfit\n%pip install tabulate\n%pip install pybroom",
      "metadata": {
        "trusted": true
      },
      "execution_count": 76,
      "outputs": []
    },
    {
      "cell_type": "markdown",
      "source": "# Rheomodel lite test\n\nIn this notebook the test the compatibility of rheomodel with pyodyde kernel running on jupyterlite.\n\nSince rheomodel is not yet pip installable to import it we copy the library files directly from github into the rhomodel foldel",
      "metadata": {}
    },
    {
      "cell_type": "code",
      "source": "# download rheomodel library\n\nfrom pyodide.http import open_url\nimport os\n\nfolder='./rheomodel/'\ntry:\n    os.mkdir(folder)\nexcept:\n    pass\n\ndef download_file(url, filename=None, folder=None):\n    if filename is None:\n        filename=url.split('/')[-1]\n        \n    if folder is None:\n        folder='./'\n        \n    with open(folder + filename, 'w') as file:\n        file.write(open_url(url).read())\n        \nurl_list=[\"https://raw.githubusercontent.com/rheopy/rheomodel/master/rheomodel/__init__.py\",\n          \"https://raw.githubusercontent.com/rheopy/rheomodel/master/rheomodel/models.py\",\n          \"https://raw.githubusercontent.com/rheopy/rheomodel/master/rheomodel/models.bib\",\n          \"https://raw.githubusercontent.com/rheopy/rheomodel/master/rheomodel/functions.py\"]\n          \nfor url in url_list:\n    download_file(url, folder='./rheomodel/')",
      "metadata": {
        "tags": [],
        "trusted": true
      },
      "execution_count": 19,
      "outputs": []
    },
    {
      "cell_type": "markdown",
      "source": "## Quickstart\n\n### Indended use",
      "metadata": {}
    },
    {
      "cell_type": "code",
      "source": "#easy access to rheology model for flow curve fitting\n\nimport lmfit\nimport pybroom\nimport rheomodel as rm\nimport pandas as pd\nimport numpy as np\nimport matplotlib.pyplot as plt\nfrom IPython.display import Markdown, Latex\n\nmodel=lmfit.Model(rm.HB)\nmodel.param_names",
      "metadata": {
        "trusted": true
      },
      "execution_count": 77,
      "outputs": [
        {
          "execution_count": 77,
          "output_type": "execute_result",
          "data": {
            "text/plain": "['ystress', 'K', 'n']"
          },
          "metadata": {}
        }
      ]
    },
    {
      "cell_type": "code",
      "source": "#simulated data for fitting example\n\nx=np.logspace(-3,3)\ndata=pd.DataFrame({'Shear rate':x,'Stress':rm.TC(x,ystress=10,gammadot_crit=0.1,eta_bg=0.8)})\ndisplay(Markdown(data.head().to_markdown()))",
      "metadata": {
        "trusted": true
      },
      "execution_count": 23,
      "outputs": [
        {
          "output_type": "display_data",
          "data": {
            "text/plain": "<IPython.core.display.Markdown object>",
            "text/markdown": "|    |   Shear rate |   Stress |\n|---:|-------------:|---------:|\n|  0 |   0.001      |  11.0008 |\n|  1 |   0.00132571 |  11.1525 |\n|  2 |   0.00175751 |  11.3271 |\n|  3 |   0.00232995 |  11.5283 |\n|  4 |   0.00308884 |  11.76   |"
          },
          "metadata": {}
        }
      ]
    },
    {
      "cell_type": "code",
      "source": "#using lmfit to perform the fit\ncondition=data['Shear rate']>0\nres_fit=model.fit(data['Stress'],x=data['Shear rate'],weights=condition/(0.1*data['Stress']))\nres_fit",
      "metadata": {
        "trusted": true
      },
      "execution_count": 49,
      "outputs": [
        {
          "execution_count": 49,
          "output_type": "execute_result",
          "data": {
            "text/plain": "<lmfit.model.ModelResult at 0xe718658>",
            "text/html": "<h2>Fit Result</h2> <p>Model: Model(HB)</p> <table class=\"jp-toc-ignore\"><caption class=\"jp-toc-ignore\">Fit Statistics</caption><tr><td style='text-align:left'>fitting method</td><td style='text-align:right'>leastsq</td></tr><tr><td style='text-align:left'># function evals</td><td style='text-align:right'>42</td></tr><tr><td style='text-align:left'># data points</td><td style='text-align:right'>50</td></tr><tr><td style='text-align:left'># variables</td><td style='text-align:right'>3</td></tr><tr><td style='text-align:left'>chi-square</td><td style='text-align:right'> 10.8354304</td></tr><tr><td style='text-align:left'>reduced chi-square</td><td style='text-align:right'> 0.23054107</td></tr><tr><td style='text-align:left'>Akaike info crit.</td><td style='text-align:right'>-70.4600825</td></tr><tr><td style='text-align:left'>Bayesian info crit.</td><td style='text-align:right'>-64.7240135</td></tr><tr><td style='text-align:left'>R-squared</td><td style='text-align:right'> 0.99999862</td></tr></table><table class=\"jp-toc-ignore\"><caption>Parameters</caption><tr><th style='text-align:left'>name</th><th style='text-align:left'>value</th><th style='text-align:left'>standard error</th><th style='text-align:left'>relative error</th><th style='text-align:left'>initial value</th><th style='text-align:left'>min</th><th style='text-align:left'>max</th><th style='text-align:right'>vary</th></tr><tr><td style='text-align:left'>ystress</td><td style='text-align:left'> 10.9631532</td><td style='text-align:left'> 0.18890985</td><td style='text-align:left'>(1.72%)</td><td style='text-align:left'>1.0</td><td style='text-align:left'>       -inf</td><td style='text-align:left'>        inf</td><td style='text-align:right'>True</td></tr><tr><td style='text-align:left'>K</td><td style='text-align:left'> 30.3570246</td><td style='text-align:left'> 0.57811420</td><td style='text-align:left'>(1.90%)</td><td style='text-align:left'>1.0</td><td style='text-align:left'>       -inf</td><td style='text-align:left'>        inf</td><td style='text-align:right'>True</td></tr><tr><td style='text-align:left'>n</td><td style='text-align:left'> 0.56733675</td><td style='text-align:left'> 0.00464012</td><td style='text-align:left'>(0.82%)</td><td style='text-align:left'>0.5</td><td style='text-align:left'>       -inf</td><td style='text-align:left'>        inf</td><td style='text-align:right'>True</td></tr></table><table class=\"jp-toc-ignore\"><caption>Correlations (unreported values are < 0.100)</caption><tr><th style='text-align:left'>Parameter1</th><th style='text-align:left'>Parameter 2</th><th style='text-align:right'>Correlation</th></tr><tr><td style='text-align:left'>K</td><td style='text-align:left'>n</td><td style='text-align:right'>-0.8488</td></tr><tr><td style='text-align:left'>ystress</td><td style='text-align:left'>K</td><td style='text-align:right'>-0.6325</td></tr><tr><td style='text-align:left'>ystress</td><td style='text-align:left'>n</td><td style='text-align:right'>+0.5857</td></tr></table>"
          },
          "metadata": {}
        }
      ]
    },
    {
      "cell_type": "code",
      "source": "res_fit.plot_fit(xlabel='$\\dot\\gamma$ [1/s]',\n                 ylabel='$\\sigma$ [Pa]',\n                 fitfmt='-',\n                 ax_kws={'yscale':'log', 'xscale':'log'},\n                 data_kws={'mfc':'none', 'color':'black'},\n                 fit_kws={'color':'red'})",
      "metadata": {
        "trusted": true
      },
      "execution_count": 63,
      "outputs": [
        {
          "execution_count": 63,
          "output_type": "execute_result",
          "data": {
            "text/plain": "<AxesSubplot:title={'center':'Model(HB)'}, xlabel='$\\\\dot\\\\gamma$ [1/s]', ylabel='$\\\\sigma$ [Pa]'>"
          },
          "metadata": {}
        },
        {
          "output_type": "display_data",
          "data": {
            "text/plain": "<Figure size 640x480 with 1 Axes>",
            "image/png": "[encoded data removed]"
          },
          "metadata": {}
        }
      ]
    },
    {
      "cell_type": "code",
      "source": "res_fit.plot_residuals(data_kws={'mfc':'none', 'color':'black'},ax_kws={'yscale':'symlog', 'xscale':'log'})",
      "metadata": {
        "trusted": true
      },
      "execution_count": 72,
      "outputs": [
        {
          "execution_count": 72,
          "output_type": "execute_result",
          "data": {
            "text/plain": "<AxesSubplot:title={'center':'Model(HB)'}, ylabel='residuals'>"
          },
          "metadata": {}
        },
        {
          "output_type": "display_data",
          "data": {
            "text/plain": "<Figure size 640x480 with 1 Axes>",
            "image/png": "[encoded data removed]"
          },
          "metadata": {}
        }
      ]
    },
    {
      "cell_type": "markdown",
      "source": "# Explore available models",
      "metadata": {}
    },
    {
      "cell_type": "code",
      "source": "import rheomodel as rm\ndisplay(Markdown(rm.library_to_table(rm.library).to_markdown()))",
      "metadata": {
        "trusted": true
      },
      "execution_count": 73,
      "outputs": [
        {
          "output_type": "display_data",
          "data": {
            "text/plain": "<IPython.core.display.Markdown object>",
            "text/markdown": "| ID                     | author                                                      | title                                                                                                                                                             | publisher                                  |   year | address   | journal                                                   |   volume |   number | pages      |\n|:-----------------------|:------------------------------------------------------------|:------------------------------------------------------------------------------------------------------------------------------------------------------------------|:-------------------------------------------|-------:|:----------|:----------------------------------------------------------|---------:|---------:|:-----------|\n| newton_1687            | Isaac Newton                                                | Philosophiæ Naturalis Principia Mathematica                                                                                                                       | Josephi Streater                           |   1687 | London    | nan                                                       |      nan |      nan | nan        |\n| ostwald_1929           | Ostwald, Wilhelm                                            | Über die Geschwindigkeitsfunktion der Newton'schen Viscosität                                                                                                     | Walter de Gruyter                          |   1929 | nan       | Zeitschrift für physikalische Chemie                      |      102 |        1 | 64--79     |\n| bingham_1916           | Bingham, Eugene C.                                          | A new conception of plasticity and viscous flow                                                                                                                   | Elsevier                                   |   1916 | nan       | The Journal of the Franklin Institute                     |      181 |        6 | 543--552   |\n| herschel_bulkley_1926  | Herschel, Winslow Hobart and Bulkley, Robert                | Measurement of consistency as applied to rubber-benzene solutions                                                                                                 | American Society for Testing and Materials |   1926 | nan       | Proceedings of the American Society for Testing Materials |       26 |        2 | 621--633   |\n| carreau_yasuda_1979    | Carreau, Pierre J. and Yasuda, Koichi                       | Rheological equations from molecular network theories                                                                                                             | Wiley                                      |   1979 | nan       | Journal of Polymer Science                                |       11 |        2 | 371--388   |\n| cross_1925             | Cross, Malcolm M.                                           | Viscosity of Colloids                                                                                                                                             | ACS Publications                           |   1925 | nan       | The Journal of Physical Chemistry                         |       29 |       11 | 1409--1426 |\n| caggioni2020variations | Caggioni, Marco and Trappe, Veronique and Spicer, Patrick T | Variations of the Herschel--Bulkley exponent reflecting contributions of the viscous continuous phase to the shear rate-dependent stress of soft glassy materials | AIP Publishing                             |   2020 | nan       | Journal of Rheology                                       |       64 |        2 | 413--422   |"
          },
          "metadata": {}
        }
      ]
    },
    {
      "cell_type": "code",
      "source": "for ID, model in rm.models.model_dict.items():\n    display(ID, Latex(model.latex))",
      "metadata": {
        "trusted": true
      },
      "execution_count": 74,
      "outputs": [
        {
          "output_type": "display_data",
          "data": {
            "text/plain": "'caggioni2020variations'"
          },
          "metadata": {}
        },
        {
          "output_type": "display_data",
          "data": {
            "text/plain": "<IPython.core.display.Latex object>",
            "text/latex": "$\\sigma=\\sigma_y+\\sigma_y\\cdot(\\dot\\gamma/\\dot\\gamma_c)^{0.5}+\\eta_{bg}\\cdot\\dot\\gamma$"
          },
          "metadata": {}
        },
        {
          "output_type": "display_data",
          "data": {
            "text/plain": "'herschel_bulkley_1926'"
          },
          "metadata": {}
        },
        {
          "output_type": "display_data",
          "data": {
            "text/plain": "<IPython.core.display.Latex object>",
            "text/latex": "$\\sigma= \\sigma_y + K \\cdot \\dot\\gamma^n$"
          },
          "metadata": {}
        },
        {
          "output_type": "display_data",
          "data": {
            "text/plain": "'newton_1687'"
          },
          "metadata": {}
        },
        {
          "output_type": "display_data",
          "data": {
            "text/plain": "<IPython.core.display.Latex object>",
            "text/latex": "$\\sigma=\\eta\\cdot\\dot\\gamma$"
          },
          "metadata": {}
        },
        {
          "output_type": "display_data",
          "data": {
            "text/plain": "'ostwald_1929'"
          },
          "metadata": {}
        },
        {
          "output_type": "display_data",
          "data": {
            "text/plain": "<IPython.core.display.Latex object>",
            "text/latex": "$\\sigma=K \\cdot \\dot\\gamma^n$"
          },
          "metadata": {}
        },
        {
          "output_type": "display_data",
          "data": {
            "text/plain": "'cross_1925'"
          },
          "metadata": {}
        },
        {
          "output_type": "display_data",
          "data": {
            "text/plain": "<IPython.core.display.Latex object>",
            "text/latex": "$\\sigma= \\dot\\gamma \\eta_{inf} + \\dot\\gamma (\\eta_0 - \\eta_{inf})/(1 + (\\dot\\gamma/\\dot\\gamma_c)^n)$"
          },
          "metadata": {}
        },
        {
          "output_type": "display_data",
          "data": {
            "text/plain": "'bingham_1916'"
          },
          "metadata": {}
        },
        {
          "output_type": "display_data",
          "data": {
            "text/plain": "<IPython.core.display.Latex object>",
            "text/latex": "$\\sigma=\\sigma_y+\\eta_{bg}\\cdot\\dot\\gamma$"
          },
          "metadata": {}
        }
      ]
    },
    {
      "cell_type": "code",
      "source": "#a possible use is to iterate through models and check which one gives the best fit\n\ncondition=data['Shear rate']>0\nres_dict={}\nfor ID, python_model in rm.models.model_dict.items():\n    lmfit_model=lmfit.Model(python_model)\n    try:\n        res_dict[lmfit_model.name]=lmfit_model.fit(data['Stress'],x=data['Shear rate'],weights=condition/(0.1*data['Stress']))\n        display(ID, Latex(python_model.latex))\n\n    except:\n        print('fit did not converged 🙁')\n\n        \npybroom.glance(res_dict)",
      "metadata": {
        "trusted": true
      },
      "execution_count": 92,
      "outputs": [
        {
          "output_type": "display_data",
          "data": {
            "text/plain": "'caggioni2020variations'"
          },
          "metadata": {}
        },
        {
          "output_type": "display_data",
          "data": {
            "text/plain": "<IPython.core.display.Latex object>",
            "text/latex": "$\\sigma=\\sigma_y+\\sigma_y\\cdot(\\dot\\gamma/\\dot\\gamma_c)^{0.5}+\\eta_{bg}\\cdot\\dot\\gamma$"
          },
          "metadata": {}
        },
        {
          "output_type": "display_data",
          "data": {
            "text/plain": "'herschel_bulkley_1926'"
          },
          "metadata": {}
        },
        {
          "output_type": "display_data",
          "data": {
            "text/plain": "<IPython.core.display.Latex object>",
            "text/latex": "$\\sigma= \\sigma_y + K \\cdot \\dot\\gamma^n$"
          },
          "metadata": {}
        },
        {
          "output_type": "display_data",
          "data": {
            "text/plain": "'newton_1687'"
          },
          "metadata": {}
        },
        {
          "output_type": "display_data",
          "data": {
            "text/plain": "<IPython.core.display.Latex object>",
            "text/latex": "$\\sigma=\\eta\\cdot\\dot\\gamma$"
          },
          "metadata": {}
        },
        {
          "output_type": "display_data",
          "data": {
            "text/plain": "'ostwald_1929'"
          },
          "metadata": {}
        },
        {
          "output_type": "display_data",
          "data": {
            "text/plain": "<IPython.core.display.Latex object>",
            "text/latex": "$\\sigma=K \\cdot \\dot\\gamma^n$"
          },
          "metadata": {}
        },
        {
          "name": "stdout",
          "text": "fit did not converged 🙁\n",
          "output_type": "stream"
        },
        {
          "output_type": "display_data",
          "data": {
            "text/plain": "'bingham_1916'"
          },
          "metadata": {}
        },
        {
          "output_type": "display_data",
          "data": {
            "text/plain": "<IPython.core.display.Latex object>",
            "text/latex": "$\\sigma=\\sigma_y+\\eta_{bg}\\cdot\\dot\\gamma$"
          },
          "metadata": {}
        },
        {
          "execution_count": 92,
          "output_type": "execute_result",
          "data": {
            "text/plain": "              model   method  num_params  num_data_points        chisqr  \\\n0         Model(TC)  leastsq           3               50  4.396130e-26   \n1         Model(HB)  leastsq           3               50  1.083543e+01   \n2  Model(Newtonian)  leastsq           1               50  3.380576e+03   \n3   Model(Powerlaw)  leastsq           2               50  4.916751e+02   \n4    Model(Bingham)  leastsq           2               50  8.475509e+02   \n\n         redchi          AIC          BIC  num_func_eval  success  \\\n0  9.353468e-28 -3108.925542 -3103.189473              9     True   \n1  2.305411e-01   -70.460083   -64.724014             42     True   \n2  6.899135e+01   212.688921   214.600944              5     True   \n3  1.024323e+01   118.289758   122.113804             66     True   \n4  1.765731e+01   145.516392   149.340438              7     True   \n\n          message               key  \n0  Fit succeeded.         Model(TC)  \n1  Fit succeeded.         Model(HB)  \n2  Fit succeeded.  Model(Newtonian)  \n3  Fit succeeded.   Model(Powerlaw)  \n4  Fit succeeded.    Model(Bingham)  ",
            "text/html": "<div>\n<style scoped>\n    .dataframe tbody tr th:only-of-type {\n        vertical-align: middle;\n    }\n\n    .dataframe tbody tr th {\n        vertical-align: top;\n    }\n\n    .dataframe thead th {\n        text-align: right;\n    }\n</style>\n<table border=\"1\" class=\"dataframe\">\n  <thead>\n    <tr style=\"text-align: right;\">\n      <th></th>\n      <th>model</th>\n      <th>method</th>\n      <th>num_params</th>\n      <th>num_data_points</th>\n      <th>chisqr</th>\n      <th>redchi</th>\n      <th>AIC</th>\n      <th>BIC</th>\n      <th>num_func_eval</th>\n      <th>success</th>\n      <th>message</th>\n      <th>key</th>\n    </tr>\n  </thead>\n  <tbody>\n    <tr>\n      <th>0</th>\n      <td>Model(TC)</td>\n      <td>leastsq</td>\n      <td>3</td>\n      <td>50</td>\n      <td>4.396130e-26</td>\n      <td>9.353468e-28</td>\n      <td>-3108.925542</td>\n      <td>-3103.189473</td>\n      <td>9</td>\n      <td>True</td>\n      <td>Fit succeeded.</td>\n      <td>Model(TC)</td>\n    </tr>\n    <tr>\n      <th>1</th>\n      <td>Model(HB)</td>\n      <td>leastsq</td>\n      <td>3</td>\n      <td>50</td>\n      <td>1.083543e+01</td>\n      <td>2.305411e-01</td>\n      <td>-70.460083</td>\n      <td>-64.724014</td>\n      <td>42</td>\n      <td>True</td>\n      <td>Fit succeeded.</td>\n      <td>Model(HB)</td>\n    </tr>\n    <tr>\n      <th>2</th>\n      <td>Model(Newtonian)</td>\n      <td>leastsq</td>\n      <td>1</td>\n      <td>50</td>\n      <td>3.380576e+03</td>\n      <td>6.899135e+01</td>\n      <td>212.688921</td>\n      <td>214.600944</td>\n      <td>5</td>\n      <td>True</td>\n      <td>Fit succeeded.</td>\n      <td>Model(Newtonian)</td>\n    </tr>\n    <tr>\n      <th>3</th>\n      <td>Model(Powerlaw)</td>\n      <td>leastsq</td>\n      <td>2</td>\n      <td>50</td>\n      <td>4.916751e+02</td>\n      <td>1.024323e+01</td>\n      <td>118.289758</td>\n      <td>122.113804</td>\n      <td>66</td>\n      <td>True</td>\n      <td>Fit succeeded.</td>\n      <td>Model(Powerlaw)</td>\n    </tr>\n    <tr>\n      <th>4</th>\n      <td>Model(Bingham)</td>\n      <td>leastsq</td>\n      <td>2</td>\n      <td>50</td>\n      <td>8.475509e+02</td>\n      <td>1.765731e+01</td>\n      <td>145.516392</td>\n      <td>149.340438</td>\n      <td>7</td>\n      <td>True</td>\n      <td>Fit succeeded.</td>\n      <td>Model(Bingham)</td>\n    </tr>\n  </tbody>\n</table>\n</div>"
          },
          "metadata": {}
        }
      ]
    },
    {
      "cell_type": "code",
      "source": "long_table=pybroom.tidy(res_dict)\nwide_table=long_table.pivot(index='key',columns='name',values='value')\nwide_table",
      "metadata": {
        "trusted": true
      },
      "execution_count": 98,
      "outputs": [
        {
          "execution_count": 98,
          "output_type": "execute_result",
          "data": {
            "text/plain": "name                      K       eta    eta_bg  gammadot_crit         n  \\\nkey                                                                        \nModel(Bingham)          NaN       NaN  2.919573            NaN       NaN   \nModel(HB)         30.357025       NaN       NaN            NaN  0.567337   \nModel(Newtonian)        NaN  3.095506       NaN            NaN       NaN   \nModel(Powerlaw)   54.712417       NaN       NaN            NaN  0.379223   \nModel(TC)               NaN       NaN  0.800000            0.1       NaN   \n\nname                ystress  \nkey                          \nModel(Bingham)    15.243747  \nModel(HB)         10.963153  \nModel(Newtonian)        NaN  \nModel(Powerlaw)         NaN  \nModel(TC)         10.000000  ",
            "text/html": "<div>\n<style scoped>\n    .dataframe tbody tr th:only-of-type {\n        vertical-align: middle;\n    }\n\n    .dataframe tbody tr th {\n        vertical-align: top;\n    }\n\n    .dataframe thead th {\n        text-align: right;\n    }\n</style>\n<table border=\"1\" class=\"dataframe\">\n  <thead>\n    <tr style=\"text-align: right;\">\n      <th>name</th>\n      <th>K</th>\n      <th>eta</th>\n      <th>eta_bg</th>\n      <th>gammadot_crit</th>\n      <th>n</th>\n      <th>ystress</th>\n    </tr>\n    <tr>\n      <th>key</th>\n      <th></th>\n      <th></th>\n      <th></th>\n      <th></th>\n      <th></th>\n      <th></th>\n    </tr>\n  </thead>\n  <tbody>\n    <tr>\n      <th>Model(Bingham)</th>\n      <td>NaN</td>\n      <td>NaN</td>\n      <td>2.919573</td>\n      <td>NaN</td>\n      <td>NaN</td>\n      <td>15.243747</td>\n    </tr>\n    <tr>\n      <th>Model(HB)</th>\n      <td>30.357025</td>\n      <td>NaN</td>\n      <td>NaN</td>\n      <td>NaN</td>\n      <td>0.567337</td>\n      <td>10.963153</td>\n    </tr>\n    <tr>\n      <th>Model(Newtonian)</th>\n      <td>NaN</td>\n      <td>3.095506</td>\n      <td>NaN</td>\n      <td>NaN</td>\n      <td>NaN</td>\n      <td>NaN</td>\n    </tr>\n    <tr>\n      <th>Model(Powerlaw)</th>\n      <td>54.712417</td>\n      <td>NaN</td>\n      <td>NaN</td>\n      <td>NaN</td>\n      <td>0.379223</td>\n      <td>NaN</td>\n    </tr>\n    <tr>\n      <th>Model(TC)</th>\n      <td>NaN</td>\n      <td>NaN</td>\n      <td>0.800000</td>\n      <td>0.1</td>\n      <td>NaN</td>\n      <td>10.000000</td>\n    </tr>\n  </tbody>\n</table>\n</div>"
          },
          "metadata": {}
        }
      ]
    },
    {
      "cell_type": "code",
      "source": "",
      "metadata": {},
      "execution_count": null,
      "outputs": []
    }
  ]
}